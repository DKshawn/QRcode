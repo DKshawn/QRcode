{
 "cells": [
  {
   "cell_type": "code",
   "execution_count": 1,
   "metadata": {
    "id": "3kd4-O-PnNZC",
    "tags": []
   },
   "outputs": [],
   "source": [
    "# 在使用前需要pip安装opencv代码如下\n",
    "# pip install opencv-python\n",
    "# pip install opencv-contrib-python\n",
    "\n",
    "# import要用的包\n",
    "from pathlib import Path\n",
    "\n",
    "import cv2\n",
    "import matplotlib.pyplot as plt\n",
    "import numpy as np"
   ]
  },
  {
   "cell_type": "code",
   "execution_count": 2,
   "metadata": {
    "id": "lk41TPmM0vbH",
    "tags": []
   },
   "outputs": [],
   "source": [
    "# 获取所有图片的路径\n",
    "def find_all_jpg_files(directory):\n",
    "    return [str(f) for f in Path(directory).rglob(\"*.JPG\")]\n",
    "\n",
    "\n",
    "# 检测QR然后读取数据\n",
    "def get_qr_code_data(decoder, image_path):\n",
    "    image = cv2.imread(image_path)\n",
    "    image = cv2.cvtColor(image, cv2.COLOR_BGR2RGB)\n",
    "    image_qr = image[100:400, 2050:2350]\n",
    "    data, points = decoder.detectAndDecode(image_qr)\n",
    "    try:\n",
    "        # 检测到\n",
    "        return data[0]\n",
    "    except:\n",
    "        # 检测不到QR\n",
    "        return None"
   ]
  },
  {
   "cell_type": "code",
   "execution_count": 24,
   "metadata": {
    "id": "4tTKqYrx00DH",
    "tags": []
   },
   "outputs": [],
   "source": [
    "# 这里要输入scan后的图片的path\n",
    "image_paths = find_all_jpg_files(\"231005\")"
   ]
  },
  {
   "cell_type": "code",
   "execution_count": 25,
   "metadata": {
    "id": "7oYl_z7H02hj",
    "tags": []
   },
   "outputs": [],
   "source": [
    "results = []\n",
    "\n",
    "decoder = cv2.wechat_qrcode_WeChatQRCode()\n",
    "for image_path in image_paths:\n",
    "    result = {}\n",
    "    result[\"image_path\"] = image_path\n",
    "    result[\"qr_data\"] = get_qr_code_data(decoder, image_path)\n",
    "    results.append((image_path, get_qr_code_data(decoder, image_path)))"
   ]
  },
  {
   "cell_type": "code",
   "execution_count": 26,
   "metadata": {
    "id": "qSgdJ7UR0355",
    "tags": []
   },
   "outputs": [
    {
     "data": {
      "text/plain": [
       "[('231005/20231006_175740_0065.JPG', 'c2IbPvOWejochyJP2jg30KB6'),\n",
       " ('231005/20231006_175740_0071.JPG', 'TSj6yJfkBJRuU5KbT64lfaxr'),\n",
       " ('231005/20231006_175740_0059.JPG', 'j7bfDkG7r9WNdEteWOwHON2P'),\n",
       " ('231005/20231006_175740_0058.JPG', '1JraUHC30j7G61bIVV2qvB7o'),\n",
       " ('231005/20231006_175740_0070.JPG', 'GPtt2ilFc5aIfBkEQNw8FOBJ'),\n",
       " ('231005/20231006_175740_0064.JPG', '1btrfRfm3eOfjj4nJBrvx6Ep'),\n",
       " ('231005/20231006_175740_0066.JPG', 'RGZ7Lm12TlC1DBkkmRYMeU5w'),\n",
       " ('231005/20231006_175740_0067.JPG', 'DcT5kezzOVXKYvjEn5iEcd9D'),\n",
       " ('231005/20231006_175740_0063.JPG', 'G4e2dfixUyBEyn0bP0sQh6FT'),\n",
       " ('231005/20231006_175740_0062.JPG', 'KOAu28q9q2xjPp5DuNR0qy3Y'),\n",
       " ('231005/20231006_175740_0048.JPG', 'OCLGyhhzqv4pbxpFcgyJSLZ6'),\n",
       " ('231005/20231006_175740_0060.JPG', '10e6hU9EVHEJunNeEgQE6dYr'),\n",
       " ('231005/20231006_175740_0061.JPG', 'QMrqsvUYR2o5YvvxozFh948b'),\n",
       " ('231005/20231006_175740_0049.JPG', 'xwBXsg3yaYBgK6KRWt8emdVj'),\n",
       " ('231005/20231006_175740_0006.JPG', 'X26oBr2tN0LmdAaR9zF1dn2T'),\n",
       " ('231005/20231006_175740_0012.JPG', 'QS3bIiKl5zEgpLiQoaqUsZHt'),\n",
       " ('231005/20231006_175740_0013.JPG', 'm7fcITRf0aQXqP23nWDGWn0m'),\n",
       " ('231005/20231006_175740_0007.JPG', 'K6h4nEWmRWIomfwNHmptg6NR'),\n",
       " ('231005/20231006_175740_0011.JPG', 'te9j8nHPvWWeytdUWn3jmUgO'),\n",
       " ('231005/20231006_175740_0005.JPG', 'olsvJJUltmcRTESWWN7qQ153'),\n",
       " ('231005/20231006_175740_0039.JPG', 'pPVx4gaN5iePOjerAuUFWwAW'),\n",
       " ('231005/20231006_175740_0038.JPG', 'x6MGhXIL0iKqPZc15cKax01B'),\n",
       " ('231005/20231006_175740_0004.JPG', 'JgNKj44r0DldUOqo1GMwaCR7'),\n",
       " ('231005/20231006_175740_0010.JPG', 'eJmyXZRv2pwPzdSI5C5sI27u'),\n",
       " ('231005/20231006_175740_0028.JPG', '9sRRHKT2vsLJVjHx7jR2FhDJ'),\n",
       " ('231005/20231006_175740_0014.JPG', '6mQqN5v4pcuv6NXoOeD0ieiX'),\n",
       " ('231005/20231006_175740_0001.JPG', 'QaEX4JnLLanbObAwkUxGnnPV'),\n",
       " ('231005/20231006_175740_0015.JPG', 'pfEsesA8wAV6IM0aXNBGY4mt'),\n",
       " ('231005/20231006_175740_0029.JPG', 'hKLreHt18zbXRrRi6KsgsmmZ'),\n",
       " ('231005/20231006_175740_0003.JPG', None),\n",
       " ('231005/20231006_175740_0017.JPG', 'FDDNRaUjsbjVzoA3SgVVP5gJ'),\n",
       " ('231005/20231006_175740_0016.JPG', 'HLZxD9kpyrSZLbgHJ2Q9ND2t'),\n",
       " ('231005/20231006_175740_0002.JPG', None),\n",
       " ('231005/20231006_175740_0027.JPG', 'Vl5hSzaTKvGeF6vGQA6gZufP'),\n",
       " ('231005/20231006_175740_0033.JPG', '2q6mUHJLku7sYU1uawahX1qV'),\n",
       " ('231005/20231006_175740_0032.JPG', 'hY5ubJ3z9csJf9gtGxP2oi2p'),\n",
       " ('231005/20231006_175740_0026.JPG', '3kjpkZsQbPkOlQNzzlVxTthE'),\n",
       " ('231005/20231006_175740_0030.JPG', 'si1zPSUS7KeDJqZ9yKMTfXGe'),\n",
       " ('231005/20231006_175740_0024.JPG', 'vF46x8VARf9Pktp4dabDkj1a'),\n",
       " ('231005/20231006_175740_0018.JPG', 'qmwkyw0mROIGK2myN7qDxYiu'),\n",
       " ('231005/20231006_175740_0019.JPG', 'OnOLgl8PniuGoaZrR3DjvY5X'),\n",
       " ('231005/20231006_175740_0025.JPG', 'D7vrRh3ZaH7PNW4GmN6ftFcq'),\n",
       " ('231005/20231006_175740_0031.JPG', 'jSROjWCGLRKCJZp4Xi2j8NfY'),\n",
       " ('231005/20231006_175740_0009.JPG', 'FCfKb4YGBY0qAkVpW8VfJrYF'),\n",
       " ('231005/20231006_175740_0035.JPG', 'XVZKlzuigqt6JBoQWFGX9vcd'),\n",
       " ('231005/20231006_175740_0021.JPG', '9pNsUoeBXsf7y9t8Wlin23Hk'),\n",
       " ('231005/20231006_175740_0020.JPG', 'yEFUaxJhZac7BXF5ds4q7Oqj'),\n",
       " ('231005/20231006_175740_0034.JPG', '1iKjMwWmcgnXvU1zOO1MFirz'),\n",
       " ('231005/20231006_175740_0008.JPG', '6n3v8AtEoF65qgoCPto649mF'),\n",
       " ('231005/20231006_175740_0022.JPG', 'NlayDeZw5K1uIqwqFyk5iUS3'),\n",
       " ('231005/20231006_175740_0036.JPG', '8AwZqarGQatsRhtH51d6fmyS'),\n",
       " ('231005/20231006_175740_0037.JPG', 'NiRPBmiimOyLJWBXWKOXmWbc'),\n",
       " ('231005/20231006_175740_0023.JPG', 'cujWaIXzCRb1NY0yPDUmLIjW'),\n",
       " ('231005/20231006_175740_0044.JPG', 'kGHybsZxI3qYgZcIXIne3eUZ'),\n",
       " ('231005/20231006_175740_0050.JPG', 'ObIQDzDC8QhFNFRzU0WWR0mo'),\n",
       " ('231005/20231006_175740_0051.JPG', 'KOUDP960zX8Mjijul2ZqshIx'),\n",
       " ('231005/20231006_175740_0045.JPG', 'KPtpaxLsfshmUhu0HweaRCcv'),\n",
       " ('231005/20231006_175740_0053.JPG', 'w7t4NvDjEwXFodM9HO00X5Qg'),\n",
       " ('231005/20231006_175740_0047.JPG', 'pE5kQiIfPmixpgynZm6NTD4x'),\n",
       " ('231005/20231006_175740_0046.JPG', 'oQVEoyhXNxm6btIVwxu4ONVT'),\n",
       " ('231005/20231006_175740_0052.JPG', 'xM8j0ECCOsxlQfmfUdq2tikv'),\n",
       " ('231005/20231006_175740_0056.JPG', 'uTZChJjA8oY0tEbbkhkaEncS'),\n",
       " ('231005/20231006_175740_0042.JPG', 'Uk1IbXA96V2kBUwUo1RdvAmX'),\n",
       " ('231005/20231006_175740_0043.JPG', 'nh2dV7DUo3J9eb5nizvvxUHI'),\n",
       " ('231005/20231006_175740_0057.JPG', '52LEoffrTiv8DXyVSvOSwPEe'),\n",
       " ('231005/20231006_175740_0069.JPG', 'RHgET271ATwKyCAO40ZutBcc'),\n",
       " ('231005/20231006_175740_0041.JPG', 'e2J02C1OD9sYCo7Fjm7llgQC'),\n",
       " ('231005/20231006_175740_0055.JPG', '8tOWjcozAqALXqcXKaIYtZVr'),\n",
       " ('231005/20231006_175740_0054.JPG', 'IlYSErYT5ekuoCw4xbXgs8As'),\n",
       " ('231005/20231006_175740_0040.JPG', 'tTRbt02BkdBJxgUX5mZzuwbs'),\n",
       " ('231005/20231006_175740_0068.JPG', '4TYj77ZjFYJJiysUSP4PjrLs')]"
      ]
     },
     "execution_count": 26,
     "metadata": {},
     "output_type": "execute_result"
    }
   ],
   "source": [
    "# 所有组合，左边是路径，右边是QR的数据\n",
    "results"
   ]
  },
  {
   "cell_type": "code",
   "execution_count": 30,
   "metadata": {
    "collapsed": true,
    "jupyter": {
     "outputs_hidden": true
    },
    "tags": []
   },
   "outputs": [
    {
     "data": {
      "text/plain": [
       "[('231005/20231006_175740_0065.JPG', 'c2IbPvOWejochyJP2jg30KB6'),\n",
       " ('231005/20231006_175740_0071.JPG', 'TSj6yJfkBJRuU5KbT64lfaxr'),\n",
       " ('231005/20231006_175740_0059.JPG', 'j7bfDkG7r9WNdEteWOwHON2P'),\n",
       " ('231005/20231006_175740_0058.JPG', '1JraUHC30j7G61bIVV2qvB7o'),\n",
       " ('231005/20231006_175740_0070.JPG', 'GPtt2ilFc5aIfBkEQNw8FOBJ'),\n",
       " ('231005/20231006_175740_0064.JPG', '1btrfRfm3eOfjj4nJBrvx6Ep'),\n",
       " ('231005/20231006_175740_0066.JPG', 'RGZ7Lm12TlC1DBkkmRYMeU5w'),\n",
       " ('231005/20231006_175740_0067.JPG', 'DcT5kezzOVXKYvjEn5iEcd9D'),\n",
       " ('231005/20231006_175740_0063.JPG', 'G4e2dfixUyBEyn0bP0sQh6FT'),\n",
       " ('231005/20231006_175740_0062.JPG', 'KOAu28q9q2xjPp5DuNR0qy3Y'),\n",
       " ('231005/20231006_175740_0048.JPG', 'OCLGyhhzqv4pbxpFcgyJSLZ6'),\n",
       " ('231005/20231006_175740_0060.JPG', '10e6hU9EVHEJunNeEgQE6dYr'),\n",
       " ('231005/20231006_175740_0061.JPG', 'QMrqsvUYR2o5YvvxozFh948b'),\n",
       " ('231005/20231006_175740_0049.JPG', 'xwBXsg3yaYBgK6KRWt8emdVj'),\n",
       " ('231005/20231006_175740_0006.JPG', 'X26oBr2tN0LmdAaR9zF1dn2T'),\n",
       " ('231005/20231006_175740_0012.JPG', 'QS3bIiKl5zEgpLiQoaqUsZHt'),\n",
       " ('231005/20231006_175740_0013.JPG', 'm7fcITRf0aQXqP23nWDGWn0m'),\n",
       " ('231005/20231006_175740_0007.JPG', 'K6h4nEWmRWIomfwNHmptg6NR'),\n",
       " ('231005/20231006_175740_0011.JPG', 'te9j8nHPvWWeytdUWn3jmUgO'),\n",
       " ('231005/20231006_175740_0005.JPG', 'olsvJJUltmcRTESWWN7qQ153'),\n",
       " ('231005/20231006_175740_0039.JPG', 'pPVx4gaN5iePOjerAuUFWwAW'),\n",
       " ('231005/20231006_175740_0038.JPG', 'x6MGhXIL0iKqPZc15cKax01B'),\n",
       " ('231005/20231006_175740_0004.JPG', 'JgNKj44r0DldUOqo1GMwaCR7'),\n",
       " ('231005/20231006_175740_0010.JPG', 'eJmyXZRv2pwPzdSI5C5sI27u'),\n",
       " ('231005/20231006_175740_0028.JPG', '9sRRHKT2vsLJVjHx7jR2FhDJ'),\n",
       " ('231005/20231006_175740_0014.JPG', '6mQqN5v4pcuv6NXoOeD0ieiX'),\n",
       " ('231005/20231006_175740_0001.JPG', 'QaEX4JnLLanbObAwkUxGnnPV'),\n",
       " ('231005/20231006_175740_0015.JPG', 'pfEsesA8wAV6IM0aXNBGY4mt'),\n",
       " ('231005/20231006_175740_0029.JPG', 'hKLreHt18zbXRrRi6KsgsmmZ'),\n",
       " ('231005/20231006_175740_0003.JPG', 'ggvpfLW4ylL7GCpHTxLfa656'),\n",
       " ('231005/20231006_175740_0017.JPG', 'FDDNRaUjsbjVzoA3SgVVP5gJ'),\n",
       " ('231005/20231006_175740_0016.JPG', 'HLZxD9kpyrSZLbgHJ2Q9ND2t'),\n",
       " ('231005/20231006_175740_0002.JPG', 'vc5BgBkSGb5blQ2pbTYYCGsi'),\n",
       " ('231005/20231006_175740_0027.JPG', 'Vl5hSzaTKvGeF6vGQA6gZufP'),\n",
       " ('231005/20231006_175740_0033.JPG', '2q6mUHJLku7sYU1uawahX1qV'),\n",
       " ('231005/20231006_175740_0032.JPG', 'hY5ubJ3z9csJf9gtGxP2oi2p'),\n",
       " ('231005/20231006_175740_0026.JPG', '3kjpkZsQbPkOlQNzzlVxTthE'),\n",
       " ('231005/20231006_175740_0030.JPG', 'si1zPSUS7KeDJqZ9yKMTfXGe'),\n",
       " ('231005/20231006_175740_0024.JPG', 'vF46x8VARf9Pktp4dabDkj1a'),\n",
       " ('231005/20231006_175740_0018.JPG', 'qmwkyw0mROIGK2myN7qDxYiu'),\n",
       " ('231005/20231006_175740_0019.JPG', 'OnOLgl8PniuGoaZrR3DjvY5X'),\n",
       " ('231005/20231006_175740_0025.JPG', 'D7vrRh3ZaH7PNW4GmN6ftFcq'),\n",
       " ('231005/20231006_175740_0031.JPG', 'jSROjWCGLRKCJZp4Xi2j8NfY'),\n",
       " ('231005/20231006_175740_0009.JPG', 'FCfKb4YGBY0qAkVpW8VfJrYF'),\n",
       " ('231005/20231006_175740_0035.JPG', 'XVZKlzuigqt6JBoQWFGX9vcd'),\n",
       " ('231005/20231006_175740_0021.JPG', '9pNsUoeBXsf7y9t8Wlin23Hk'),\n",
       " ('231005/20231006_175740_0020.JPG', 'yEFUaxJhZac7BXF5ds4q7Oqj'),\n",
       " ('231005/20231006_175740_0034.JPG', '1iKjMwWmcgnXvU1zOO1MFirz'),\n",
       " ('231005/20231006_175740_0008.JPG', '6n3v8AtEoF65qgoCPto649mF'),\n",
       " ('231005/20231006_175740_0022.JPG', 'NlayDeZw5K1uIqwqFyk5iUS3'),\n",
       " ('231005/20231006_175740_0036.JPG', '8AwZqarGQatsRhtH51d6fmyS'),\n",
       " ('231005/20231006_175740_0037.JPG', 'NiRPBmiimOyLJWBXWKOXmWbc'),\n",
       " ('231005/20231006_175740_0023.JPG', 'cujWaIXzCRb1NY0yPDUmLIjW'),\n",
       " ('231005/20231006_175740_0044.JPG', 'kGHybsZxI3qYgZcIXIne3eUZ'),\n",
       " ('231005/20231006_175740_0050.JPG', 'ObIQDzDC8QhFNFRzU0WWR0mo'),\n",
       " ('231005/20231006_175740_0051.JPG', 'KOUDP960zX8Mjijul2ZqshIx'),\n",
       " ('231005/20231006_175740_0045.JPG', 'KPtpaxLsfshmUhu0HweaRCcv'),\n",
       " ('231005/20231006_175740_0053.JPG', 'w7t4NvDjEwXFodM9HO00X5Qg'),\n",
       " ('231005/20231006_175740_0047.JPG', 'pE5kQiIfPmixpgynZm6NTD4x'),\n",
       " ('231005/20231006_175740_0046.JPG', 'oQVEoyhXNxm6btIVwxu4ONVT'),\n",
       " ('231005/20231006_175740_0052.JPG', 'xM8j0ECCOsxlQfmfUdq2tikv'),\n",
       " ('231005/20231006_175740_0056.JPG', 'uTZChJjA8oY0tEbbkhkaEncS'),\n",
       " ('231005/20231006_175740_0042.JPG', 'Uk1IbXA96V2kBUwUo1RdvAmX'),\n",
       " ('231005/20231006_175740_0043.JPG', 'nh2dV7DUo3J9eb5nizvvxUHI'),\n",
       " ('231005/20231006_175740_0057.JPG', '52LEoffrTiv8DXyVSvOSwPEe'),\n",
       " ('231005/20231006_175740_0069.JPG', 'RHgET271ATwKyCAO40ZutBcc'),\n",
       " ('231005/20231006_175740_0041.JPG', 'e2J02C1OD9sYCo7Fjm7llgQC'),\n",
       " ('231005/20231006_175740_0055.JPG', '8tOWjcozAqALXqcXKaIYtZVr'),\n",
       " ('231005/20231006_175740_0054.JPG', 'IlYSErYT5ekuoCw4xbXgs8As'),\n",
       " ('231005/20231006_175740_0040.JPG', 'tTRbt02BkdBJxgUX5mZzuwbs'),\n",
       " ('231005/20231006_175740_0068.JPG', '4TYj77ZjFYJJiysUSP4PjrLs')]"
      ]
     },
     "execution_count": 30,
     "metadata": {},
     "output_type": "execute_result"
    }
   ],
   "source": [
    "# 在这里，按None的顺序手动添加qrcode的值\n",
    "replacement_values = ['ggvpfLW4ylL7GCpHTxLfa656', 'vc5BgBkSGb5blQ2pbTYYCGsi']\n",
    "replacement_index = 0\n",
    "\n",
    "for i, (filename, value) in enumerate(results):\n",
    "    if value is None:\n",
    "        results[i] = (filename, replacement_values[replacement_index])\n",
    "        replacement_index += 1\n",
    "\n",
    "results"
   ]
  },
  {
   "cell_type": "code",
   "execution_count": 31,
   "metadata": {
    "id": "RhzZduKO06F7",
    "tags": []
   },
   "outputs": [],
   "source": [
    "# 所有的QR的数据\n",
    "all_data = [data for _, data in results]\n",
    "\n",
    "# 找重复的\n",
    "duplicate_results = []\n",
    "for result in results:\n",
    "    data = result[1]\n",
    "\n",
    "    # 如果QR读不出来就跳过\n",
    "    if data is None:\n",
    "        continue\n",
    "\n",
    "    # QR的数据读de\n",
    "    if all_data.count(data) > 1:\n",
    "        duplicate_results.append(result)"
   ]
  },
  {
   "cell_type": "code",
   "execution_count": 32,
   "metadata": {
    "colab": {
     "base_uri": "https://localhost:8080/"
    },
    "id": "TCLvLRNB08LJ",
    "outputId": "58ad66a7-f66d-4fee-c93f-295880e59045",
    "tags": []
   },
   "outputs": [
    {
     "name": "stdout",
     "output_type": "stream",
     "text": [
      "没有人copy\n"
     ]
    }
   ],
   "source": [
    "# 如果这里是空的[]则没有重复的\n",
    "duplicate_results\n",
    "if not duplicate_results:\n",
    "    print(\"没有人copy\")\n",
    "else:\n",
    "    print(duplicate_results)\n"
   ]
  },
  {
   "cell_type": "code",
   "execution_count": null,
   "metadata": {
    "id": "8U6MFFaH1-Mw"
   },
   "outputs": [],
   "source": []
  }
 ],
 "metadata": {
  "colab": {
   "provenance": []
  },
  "kernelspec": {
   "display_name": "Python 3 (ipykernel)",
   "language": "python",
   "name": "python3"
  },
  "language_info": {
   "codemirror_mode": {
    "name": "ipython",
    "version": 3
   },
   "file_extension": ".py",
   "mimetype": "text/x-python",
   "name": "python",
   "nbconvert_exporter": "python",
   "pygments_lexer": "ipython3",
   "version": "3.11.5"
  }
 },
 "nbformat": 4,
 "nbformat_minor": 4
}
